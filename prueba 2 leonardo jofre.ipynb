{
 "cells": [
  {
   "cell_type": "code",
   "execution_count": null,
   "metadata": {
    "collapsed": true
   },
   "outputs": [],
   "source": [
    "\n",
    "%macro gen(name,id,dia,mes,year,n);\n",
    "\tData name;\n",
    "\t    do i=1 to 10;\n",
    "\t        ID = i;\n",
    "\t        DIA = RAND(\"Uniform\"); *uniforme entre 1 y N;\n",
    "\t        MES = RAND(\"Uniform\");\n",
    "\t        YEAR = RAND(\"Uniform\");\n",
    "\t        output;\n",
    "\t    end;\n",
    "\trun;\n",
    "%endm gen;\n",
    "\n",
    "%gen(name,id,dia,mes,year,10);"
   ]
  },
  {
   "cell_type": "code",
   "execution_count": null,
   "metadata": {
    "collapsed": true
   },
   "outputs": [],
   "source": [
    "%macro gen(name,id,dia,mes,year,n);\n",
    "Data name;\n",
    "        do i=1 to 10;\n",
    "        ID = i;\n",
    "        DIA = RAND(\"Uniform\"); *uniforme entre 1 y N;\n",
    "        MES = RAND(\"Uniform\");\n",
    "        YEAR = RAND(\"Uniform\");\n",
    "        output;\n",
    "        end;\n",
    "    run;\n",
    "%endm gen;\n",
    "\n",
    "%gen(name,id,dia,mes,year,10);"
   ]
  },
  {
   "cell_type": "code",
   "execution_count": null,
   "metadata": {
    "collapsed": false
   },
   "outputs": [
    {
     "name": "stdout",
     "output_type": "stream",
     "text": [
      "Exception caught!\n",
      "Processing interrupt\n",
      "Attn handler Query is\n",
      "\n",
      "Select:\n",
      "  C. Cancel the dialog\n",
      "  T. Terminate the SAS System\n",
      "\n",
      "Please enter your Response: T\n",
      "Secondary Query is:\n",
      "\n",
      "Press \n",
      "  Y to terminate this SAS session, \n",
      "  N to continue.\n",
      "\n",
      "Please enter your Response: Y\n"
     ]
    }
   ],
   "source": [
    "%macro gen(name,id,dia,mes,year,n);\n",
    "Data name;\n",
    "        do i=1 to 10;\n",
    "        ID = i;\n",
    "        DIA = RAND(\"Uniform\"); *uniforme entre 1 y N;\n",
    "        MES = RAND(\"Uniform\");\n",
    "        YEAR = RAND(\"Uniform\");\n",
    "        output;\n",
    "        end;\n",
    "    run;\n",
    "%endm gen;\n",
    "\n",
    "%gen(name,id,dia,mes,year,10);"
   ]
  },
  {
   "cell_type": "code",
   "execution_count": null,
   "metadata": {
    "collapsed": true
   },
   "outputs": [],
   "source": [
    "%macro gen(name,id,dia,mes,year,n);\n",
    "\tData name;\n",
    "\t    do i=1 to 10;\n",
    "\t        ID = i;\n",
    "\t        DIA = RAND(\"Uniform\"); *uniforme entre 1 y N;\n",
    "\t        MES = RAND(\"Uniform\");\n",
    "\t        YEAR = RAND(\"Uniform\");\n",
    "\t        output;\n",
    "\t    end;\n",
    "\trun;\n",
    "%endm gen;\n",
    "\n",
    "%gen(name,id,dia,mes,year,10);\n",
    "\n",
    "\n",
    "PROC PRINT DATA=NAME; RUN;\n",
    "\n",
    "*problema 2\n",
    "\tData name;\n",
    "\t    do i=1 to 10;\n",
    "\t        ID = i;\n",
    "\t        DIA = RAND(\"Uniform\"); *uniforme entre 1 y N;\n",
    "\t        MES = RAND(\"Uniform\");\n",
    "\t        YEAR = RAND(\"Uniform\");\n",
    "\t        output;\n",
    "\t    end;\n",
    "\trun;\n",
    "%endm gen;\n",
    "\n",
    "%gen(name,id,dia,mes,year,10);\n",
    "\n",
    "\n",
    "PROC PRINT DATA=NAME; RUN;\n",
    "\n",
    "*problema 2"
   ]
  },
  {
   "cell_type": "code",
   "execution_count": null,
   "metadata": {
    "collapsed": true
   },
   "outputs": [],
   "source": []
  }
 ],
 "metadata": {
  "kernelspec": {
   "display_name": "SAS",
   "language": "sas",
   "name": "sas"
  },
  "language_info": {
   "codemirror_mode": "sas",
   "file_extension": ".sas",
   "mimetype": "text/x-sas",
   "name": "sas"
  }
 },
 "nbformat": 4,
 "nbformat_minor": 0
}
