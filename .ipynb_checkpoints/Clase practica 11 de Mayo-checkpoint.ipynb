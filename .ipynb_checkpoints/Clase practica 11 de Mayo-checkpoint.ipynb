{
 "cells": [
  {
   "cell_type": "code",
   "execution_count": 19,
   "metadata": {
    "collapsed": false
   },
   "outputs": [
    {
     "data": {
      "text/html": [
       "<!DOCTYPE html PUBLIC \"-//W3C//DTD HTML 4.01//EN\"\n",
       "   \"http://www.w3.org/TR/html4/strict.dtd\">\n",
       "\n",
       "<html>\n",
       "<head>\n",
       "  <title></title>\n",
       "  <meta http-equiv=\"content-type\" content=\"text/html; charset=None\">\n",
       "  <style type=\"text/css\">\n",
       "td.linenos { background-color: #f0f0f0; padding-right: 10px; }\n",
       "span.lineno { background-color: #f0f0f0; padding: 0 5px 0 5px; }\n",
       "pre { line-height: 125%; }\n",
       "body .hll { background-color: #ffffcc }\n",
       "body  { background: #ffffff; }\n",
       "body .c { color: #0000FF } /* Comment */\n",
       "body .k { color: #ff0000; font-weight: bold } /* Keyword */\n",
       "body .n { color: #008000 } /* Name */\n",
       "body .ch { color: #0000FF } /* Comment.Hashbang */\n",
       "body .cm { color: #0000FF } /* Comment.Multiline */\n",
       "body .cp { color: #0000FF } /* Comment.Preproc */\n",
       "body .cpf { color: #0000FF } /* Comment.PreprocFile */\n",
       "body .c1 { color: #0000FF } /* Comment.Single */\n",
       "body .cs { color: #0000FF } /* Comment.Special */\n",
       "body .kc { color: #ff0000; font-weight: bold } /* Keyword.Constant */\n",
       "body .kd { color: #ff0000; font-weight: bold } /* Keyword.Declaration */\n",
       "body .kn { color: #ff0000; font-weight: bold } /* Keyword.Namespace */\n",
       "body .kp { color: #ff0000; font-weight: bold } /* Keyword.Pseudo */\n",
       "body .kr { color: #ff0000; font-weight: bold } /* Keyword.Reserved */\n",
       "body .kt { color: #ff0000; font-weight: bold } /* Keyword.Type */\n",
       "body .s { color: #111111 } /* Literal.String */\n",
       "body .na { color: #008000 } /* Name.Attribute */\n",
       "body .nb { color: #008000 } /* Name.Builtin */\n",
       "body .nc { color: #008000 } /* Name.Class */\n",
       "body .no { color: #008000 } /* Name.Constant */\n",
       "body .nd { color: #008000 } /* Name.Decorator */\n",
       "body .ni { color: #008000 } /* Name.Entity */\n",
       "body .ne { color: #008000 } /* Name.Exception */\n",
       "body .nf { color: #008000 } /* Name.Function */\n",
       "body .nl { color: #008000 } /* Name.Label */\n",
       "body .nn { color: #008000 } /* Name.Namespace */\n",
       "body .nx { color: #008000 } /* Name.Other */\n",
       "body .py { color: #008000 } /* Name.Property */\n",
       "body .nt { color: #008000 } /* Name.Tag */\n",
       "body .nv { color: #008000 } /* Name.Variable */\n",
       "body .sb { color: #111111 } /* Literal.String.Backtick */\n",
       "body .sc { color: #111111 } /* Literal.String.Char */\n",
       "body .sd { color: #111111 } /* Literal.String.Doc */\n",
       "body .s2 { color: #111111 } /* Literal.String.Double */\n",
       "body .se { color: #111111 } /* Literal.String.Escape */\n",
       "body .sh { color: #111111 } /* Literal.String.Heredoc */\n",
       "body .si { color: #111111 } /* Literal.String.Interpol */\n",
       "body .sx { color: #111111 } /* Literal.String.Other */\n",
       "body .sr { color: #111111 } /* Literal.String.Regex */\n",
       "body .s1 { color: #111111 } /* Literal.String.Single */\n",
       "body .ss { color: #111111 } /* Literal.String.Symbol */\n",
       "body .bp { color: #008000 } /* Name.Builtin.Pseudo */\n",
       "body .vc { color: #008000 } /* Name.Variable.Class */\n",
       "body .vg { color: #008000 } /* Name.Variable.Global */\n",
       "body .vi { color: #008000 } /* Name.Variable.Instance */\n",
       "\n",
       "  </style>\n",
       "</head>\n",
       "<body>\n",
       "<h2></h2>\n",
       "\n",
       "<div class=\"highlight\"><pre><span></span><span class=\"s\">351  ods listing close;ods html5 file=stdout options(bitmap_mode=&#39;inline&#39;) device=png; ods graphics on / outputfmt=png;</span><br><span class=\"cm\">NOTE: Writing HTML5 Body file: STDOUT</span><br><span class=\"s\">352  </span><br><span class=\"cm\">NOTE: IML Ready</span><br><span class=\"s\">353  proc iml;</span><br><span class=\"s\">354  </span><br><span class=\"s\">355  </span><br><span class=\"s\">356      pi1 = 1/4;</span><br><span class=\"s\">357      pi2 = 1/2;</span><br><span class=\"s\">358      pi3 = 1/4;</span><br><span class=\"s\">359      mu1 = -{3,2};</span><br><span class=\"s\">360      mu2 = {0,0};</span><br><span class=\"s\">361      mu3 = {2,3};</span><br><span class=\"s\">362  </span><br><span class=\"s\">363      V1 = {1 -0.4, -0.4 1};</span><br><span class=\"s\">364      V2 = {1 0, 0 1};</span><br><span class=\"s\">365      V3 = {1.5 0.7, 0.7 1.5};</span><br><span class=\"s\">366  </span><br><span class=\"s\">367      c = {1, 2, 3};</span><br><span class=\"s\">368      prob = {pi1 pi2 pi3};</span><br><span class=\"s\">369      X = RandMultinomial(1, 2000, prob);</span><br><span class=\"cm\">NOTE: Module RANDMULTINOMIAL loaded from the storage SASHELP.IMLMLIB.</span><br><span class=\"cm\">NOTE: Module ROWVEC loaded from the storage SASHELP.IMLMLIB.</span><br><span class=\"k k-Multiline\">ERROR: (execution) Character argument should be numeric.</span><br><br> <span class=\"err\">operation</span> <span class=\"err\">:</span> <span class=\"err\">SUM</span> <span class=\"err\">at</span> <span class=\"err\">offset</span>  <span class=\"err\">16</span> <span class=\"err\">column</span>  <span class=\"err\">18</span><br> <span class=\"err\">operands</span>  <span class=\"err\">:</span> <span class=\"err\">Prob</span><br><br><span class=\"err\">Prob</span>      <span class=\"err\">1</span> <span class=\"err\">row</span>       <span class=\"err\">3</span> <span class=\"err\">cols</span>    <span class=\"err\">(character,</span> <span class=\"err\">size</span> <span class=\"err\">3)</span><br><br> <span class=\"err\">PI1</span> <span class=\"err\">PI2</span> <span class=\"err\">PI3</span><br><br> <span class=\"err\">statement</span> <span class=\"err\">:</span> <span class=\"err\">IF</span> <span class=\"err\">at</span> <span class=\"err\">offset</span>  <span class=\"err\">16</span> <span class=\"err\">column</span>   <span class=\"err\">4</span><br> <span class=\"err\">traceback</span> <span class=\"err\">:</span> <span class=\"err\">module</span> <span class=\"err\">RANDMULTINOMIAL</span> <span class=\"err\">at</span> <span class=\"err\">offset</span>  <span class=\"err\">16</span> <span class=\"err\">column</span>   <span class=\"err\">4</span><br><br><span class=\"cm\">NOTE: Paused in module RANDMULTINOMIAL.</span><br><span class=\"s\">370      rnd = RandNormal(10, mu1, V1);</span><br><span class=\"cm\">NOTE: Module RANDNORMAL loaded from the storage SASHELP.IMLMLIB.</span><br><span class=\"k k-Multiline\">ERROR: (execution) Matrix has not been set to a value.</span><br><br> <span class=\"err\">operation</span> <span class=\"err\">:</span> <span class=\"err\">ROOT</span> <span class=\"err\">at</span> <span class=\"err\">offset</span>  <span class=\"err\">13</span> <span class=\"err\">column</span>  <span class=\"err\">13</span><br> <span class=\"err\">operands</span>  <span class=\"err\">:</span> <span class=\"err\">Cov,</span> <span class=\"err\">*LIT1214</span><br><br><span class=\"err\">Cov</span>      <span class=\"err\">0</span> <span class=\"err\">row</span>       <span class=\"err\">0</span> <span class=\"err\">col</span>     <span class=\"err\">(type</span> <span class=\"err\">?,</span> <span class=\"err\">size</span> <span class=\"err\">0)</span><br><br><br><span class=\"err\">*LIT1214</span>      <span class=\"err\">1</span> <span class=\"err\">row</span>       <span class=\"err\">1</span> <span class=\"err\">col</span>     <span class=\"err\">(character,</span> <span class=\"err\">size</span> <span class=\"err\">7)</span><br><br> <span class=\"err\">NoError</span><br><br> <span class=\"err\">statement</span> <span class=\"err\">:</span> <span class=\"err\">ASSIGN</span> <span class=\"err\">at</span> <span class=\"err\">offset</span>  <span class=\"err\">13</span> <span class=\"err\">column</span>   <span class=\"err\">5</span><br> <span class=\"err\">traceback</span> <span class=\"err\">:</span> <span class=\"err\">module</span> <span class=\"err\">RANDNORMAL</span> <span class=\"err\">at</span> <span class=\"err\">offset</span>  <span class=\"err\">13</span> <span class=\"err\">column</span>   <span class=\"err\">5</span><br><br><span class=\"cm\">NOTE: Paused in module RANDNORMAL.</span><br><span class=\"s\">371      print rnd;</span><br><span class=\"k k-Multiline\">ERROR: Matrix rnd has not been set to a value.</span><br><br> <span class=\"err\">statement</span> <span class=\"err\">:</span> <span class=\"err\">PRINT</span> <span class=\"err\">at</span> <span class=\"err\">line</span> <span class=\"err\">371</span> <span class=\"err\">column</span> <span class=\"err\">5</span><br><span class=\"s\">372  quit;</span><br><span class=\"cm\">NOTE: Exiting IML.</span><br><span class=\"cm\">NOTE: The SAS System stopped processing this step because of errors.</span><br><span class=\"cm\">NOTE: PROCEDURE IML used (Total process time):</span><br><span class=\"cm\">      real time           0.00 seconds</span><br><span class=\"cm\">      cpu time            0.00 seconds</span><br><span class=\"cm\">      </span><br><span class=\"s\">373  </span><br><span class=\"s\">374  ods html5 close;ods listing;</span><br><br><span class=\"s\">375  </span><br></pre></div>\n",
       "</body>\n",
       "</html>\n"
      ],
      "text/plain": [
       "<IPython.core.display.HTML object>"
      ]
     },
     "execution_count": 19,
     "metadata": {},
     "output_type": "execute_result"
    }
   ],
   "source": [
    "proc iml;\n",
    "    * muestras de una mezcla gaussiana;\n",
    "    pi1 = 1/4;\n",
    "    pi2 = 1/2;\n",
    "    pi3 = 1/4;\n",
    "    mu1 = -{3,2};\n",
    "    mu2 = {0,0};\n",
    "    mu3 = {2,3};\n",
    "    \n",
    "    V1 = {1 -0.4, -0.4 1};\n",
    "    V2 = {1 0, 0 1};\n",
    "    V3 = {1.5 0.7, 0.7 1.5};\n",
    "    \n",
    "    c = {1, 2, 3};\n",
    "    prob = {pi1 pi2 pi3};\n",
    "    X = RandMultinomial(1, 2000, prob);\n",
    "    rnd = RandNormal(10, mu1, V1);\n",
    "    print rnd;\n",
    "quit;\n"
   ]
  },
  {
   "cell_type": "code",
   "execution_count": null,
   "metadata": {
    "collapsed": true
   },
   "outputs": [],
   "source": []
  }
 ],
 "metadata": {
  "kernelspec": {
   "display_name": "SAS",
   "language": "sas",
   "name": "sas"
  },
  "language_info": {
   "codemirror_mode": "sas",
   "file_extension": ".sas",
   "mimetype": "text/x-sas",
   "name": "sas"
  }
 },
 "nbformat": 4,
 "nbformat_minor": 0
}
