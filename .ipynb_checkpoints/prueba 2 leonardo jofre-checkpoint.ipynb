{
 "cells": [
  {
   "cell_type": "code",
   "execution_count": null,
   "metadata": {
    "collapsed": true
   },
   "outputs": [],
   "source": [
    "\n",
    "%macro gen(name,id,dia,mes,year,n);\n",
    "\tData name;\n",
    "\t    do i=1 to 10;\n",
    "\t        ID = i;\n",
    "\t        DIA = RAND(\"Uniform\"); *uniforme entre 1 y N;\n",
    "\t        MES = RAND(\"Uniform\");\n",
    "\t        YEAR = RAND(\"Uniform\");\n",
    "\t        output;\n",
    "\t    end;\n",
    "\trun;\n",
    "%endm gen;\n",
    "\n",
    "%gen(name,id,dia,mes,year,10);"
   ]
  },
  {
   "cell_type": "code",
   "execution_count": null,
   "metadata": {
    "collapsed": true
   },
   "outputs": [],
   "source": [
    "%macro gen(name,id,dia,mes,year,n);\n",
    "Data name;\n",
    "        do i=1 to 10;\n",
    "        ID = i;\n",
    "        DIA = RAND(\"Uniform\"); *uniforme entre 1 y N;\n",
    "        MES = RAND(\"Uniform\");\n",
    "        YEAR = RAND(\"Uniform\");\n",
    "        output;\n",
    "        end;\n",
    "    run;\n",
    "%endm gen;\n",
    "\n",
    "%gen(name,id,dia,mes,year,10);"
   ]
  }
 ],
 "metadata": {
  "kernelspec": {
   "display_name": "SAS",
   "language": "sas",
   "name": "sas"
  },
  "language_info": {
   "codemirror_mode": "sas",
   "file_extension": ".sas",
   "mimetype": "text/x-sas",
   "name": "sas"
  }
 },
 "nbformat": 4,
 "nbformat_minor": 0
}
